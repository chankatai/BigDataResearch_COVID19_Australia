{
 "cells": [
  {
   "cell_type": "code",
   "execution_count": null,
   "metadata": {},
   "outputs": [
    {
     "name": "stdout",
     "output_type": "stream",
     "text": [
      " * Serving Flask app \"__main__\" (lazy loading)\n",
      " * Environment: production\n",
      "   WARNING: This is a development server. Do not use it in a production deployment.\n",
      "   Use a production WSGI server instead.\n",
      " * Debug mode: off\n"
     ]
    },
    {
     "name": "stderr",
     "output_type": "stream",
     "text": [
      " * Running on http://127.0.0.1:5000/ (Press CTRL+C to quit)\n"
     ]
    }
   ],
   "source": [
    "import os\n",
    "from flask import Flask\n",
    "from flask import render_template\n",
    "\n",
    "app=Flask(__name__)\n",
    "\n",
    "item = 123456\n",
    "\n",
    "@app.route('/')\n",
    "def home():\n",
    "    return render_template(\"home.html\")\n",
    "\n",
    "@app.route('/Australia')\n",
    "def Australia():\n",
    "    return render_template(\"Australia.html\")\n",
    "\n",
    "@app.route('/data')\n",
    "def data():\n",
    "    return render_template(\"data.html\")\n",
    "\n",
    "@app.route('/NewSouthWales')\n",
    "def NewSouthWales():\n",
    "    return render_template(\"NewSouthWales.html\")\n",
    "\n",
    "@app.route('/Sentiment')\n",
    "def Sentiment():\n",
    "    return render_template(\"Sentiment.html\")\n",
    "\n",
    "@app.route('/Victoria')\n",
    "def Victoria():\n",
    "    return render_template(\"Victoria.html\")\n",
    "\n",
    "@app.route('/home')\n",
    "def home1():\n",
    "    return render_template(\"home.html\")\n",
    "\n",
    "@app.route('/heraldsun')\n",
    "def heraldsun():\n",
    "    return render_template(\"heraldsun.html\")\n",
    "\n",
    "@app.route('/dailytelegraph')\n",
    "def dailytelegraph():\n",
    "    return render_template(\"dailytelegraph.html\")\n",
    "\n",
    "@app.route('/Newsau')\n",
    "def Newsau():\n",
    "    return render_template(\"Newsau.html\")\n",
    "\n",
    "\n",
    "@app.route('/about')\n",
    "def about():\n",
    "    return render_template(\"Sentiment.html\",item=item)\n",
    "\n",
    "if __name__==\"__main__\":\n",
    "    app.run()"
   ]
  },
  {
   "cell_type": "code",
   "execution_count": null,
   "metadata": {},
   "outputs": [],
   "source": []
  }
 ],
 "metadata": {
  "kernelspec": {
   "display_name": "Python 3",
   "language": "python",
   "name": "python3"
  },
  "language_info": {
   "codemirror_mode": {
    "name": "ipython",
    "version": 3
   },
   "file_extension": ".py",
   "mimetype": "text/x-python",
   "name": "python",
   "nbconvert_exporter": "python",
   "pygments_lexer": "ipython3",
   "version": "3.7.6"
  }
 },
 "nbformat": 4,
 "nbformat_minor": 4
}
